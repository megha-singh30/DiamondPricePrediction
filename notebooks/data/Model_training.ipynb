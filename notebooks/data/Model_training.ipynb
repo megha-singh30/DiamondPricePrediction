{
 "cells": [
  {
   "cell_type": "code",
   "execution_count": 15,
   "id": "04e39b2c",
   "metadata": {},
   "outputs": [],
   "source": [
    "import pandas as pd\n",
    "df = pd.read_csv('gemstone.csv')\n",
    "\n",
    "df.drop(labels='id',axis=1,inplace=True)\n",
    "\n",
    "X = df.drop(labels='price',axis=1)\n",
    "y = df['price']"
   ]
  },
  {
   "cell_type": "code",
   "execution_count": 16,
   "id": "f0758ed1",
   "metadata": {},
   "outputs": [
    {
     "name": "stdout",
     "output_type": "stream",
     "text": [
      "Index(['cut', 'color', 'clarity'], dtype='object')\n",
      "Index(['carat', 'depth', 'table', 'x', 'y', 'z'], dtype='object')\n"
     ]
    }
   ],
   "source": [
    "\n",
    "category_cols = X.columns[X.dtypes==object]\n",
    "numerical_cols = X.columns[X.dtypes!=object]\n",
    "print(category_cols)\n",
    "print(numerical_cols)"
   ]
  },
  {
   "cell_type": "code",
   "execution_count": 17,
   "id": "72a302a6",
   "metadata": {},
   "outputs": [],
   "source": [
    "# Giving ranks to each categorical feature\n",
    "cut_map = {1:'Fair',2:'Good',3:'Very Good',4:'Premium',5:'Ideal'}\n",
    "clarity_map = {\"T1\":1,\"ST2\":2,\"ST1\":3,\"VS2\":4,\"VS1\":5,\"VVS2\":6,\"VVS1\":7,\"I1\":8}\n",
    "color_map = {\"D\":1,\"E\":2,\"F\":3,\"G\":4,\"H\":5,\"I\":6}"
   ]
  },
  {
   "cell_type": "code",
   "execution_count": 18,
   "id": "1f072f71",
   "metadata": {},
   "outputs": [],
   "source": [
    "df['cut'] = df['cut'].map(cut_map)\n",
    "df['clarity'] = df['clarity'].map(clarity_map)\n",
    "df['color'] = df['color'].map(color_map)"
   ]
  },
  {
   "cell_type": "code",
   "execution_count": 19,
   "id": "a4fb0c3f",
   "metadata": {},
   "outputs": [],
   "source": [
    "# when doing with pipeline following procedures would be done. Arrange in rank order.\n",
    "cut_cateogry = ['Fair','Good','Very Good','Premium','Ideal']\n",
    "clarity_category = ['I1','SI2','SI1','VS2','VS1','VVS2','VVS1','IF']\n",
    "color_category = ['D','E','F','G','H','I','J']"
   ]
  },
  {
   "cell_type": "code",
   "execution_count": 20,
   "id": "1af0fa58",
   "metadata": {},
   "outputs": [],
   "source": [
    "from sklearn.impute import SimpleImputer\n",
    "from sklearn.preprocessing import OrdinalEncoder\n",
    "from sklearn.preprocessing import StandardScaler\n",
    "from sklearn.compose import ColumnTransformer\n",
    "from sklearn.pipeline import Pipeline"
   ]
  },
  {
   "cell_type": "code",
   "execution_count": 21,
   "id": "6873ed94",
   "metadata": {},
   "outputs": [],
   "source": [
    "#Numerical Pipeline\n",
    "numerical_pipeline = Pipeline(\n",
    "                    steps=[('imputer',SimpleImputer(strategy ='median')),\n",
    "                          ('scaler',StandardScaler())]\n",
    "                        )\n",
    "\n",
    "#Categorical Pipeline\n",
    "categorical_pipeline = Pipeline(\n",
    "                        steps=[('imputer',SimpleImputer(strategy ='most_frequent')),\n",
    "                            ('ordinalencoder',OrdinalEncoder(categories=[cut_cateogry,color_category,clarity_category])),\n",
    "                            ('scaler',StandardScaler())\n",
    "                                ]\n",
    ")\n",
    "\n",
    "preprocessor = ColumnTransformer([\n",
    "                        ('numerical_pipeline',numerical_pipeline,numerical_cols),\n",
    "                        ('categorical_pipeline',categorical_pipeline,category_cols)]\n",
    ")"
   ]
  },
  {
   "cell_type": "code",
   "execution_count": 22,
   "id": "e604d8b7",
   "metadata": {},
   "outputs": [],
   "source": [
    "from sklearn.model_selection import train_test_split\n",
    "xtrain,xtest,ytrain,ytest = train_test_split(X,y,test_size=0.3,random_state=33)"
   ]
  },
  {
   "cell_type": "code",
   "execution_count": 23,
   "id": "06c6a5b8",
   "metadata": {},
   "outputs": [],
   "source": [
    "xtrain = pd.DataFrame(preprocessor.fit_transform(xtrain),columns=preprocessor.get_feature_names_out())\n",
    "xtest = pd.DataFrame(preprocessor.transform(xtest),columns=preprocessor.get_feature_names_out())"
   ]
  },
  {
   "cell_type": "code",
   "execution_count": 24,
   "id": "3f386545",
   "metadata": {},
   "outputs": [],
   "source": [
    "## Model Training\n",
    "\n",
    "from sklearn.linear_model import LinearRegression,Lasso,Ridge,ElasticNet\n",
    "from sklearn.metrics import r2_score,mean_absolute_error,mean_squared_error"
   ]
  },
  {
   "cell_type": "code",
   "execution_count": 25,
   "id": "6e9c1c0f",
   "metadata": {},
   "outputs": [],
   "source": [
    "import numpy as np\n",
    "def evaluate_model(true, predicted):\n",
    "    mae = mean_absolute_error(true, predicted)\n",
    "    mse = mean_squared_error(true, predicted)\n",
    "    rmse = np.sqrt(mean_squared_error(true, predicted))\n",
    "    r2_square = r2_score(true, predicted)\n",
    "    return mae, rmse, r2_square"
   ]
  },
  {
   "cell_type": "code",
   "execution_count": 26,
   "id": "3252da12",
   "metadata": {},
   "outputs": [
    {
     "name": "stdout",
     "output_type": "stream",
     "text": [
      "LinearRegression\n",
      "Model Training Performance\n",
      "RMSE: 1003.9683231417791\n",
      "MAE: 673.4979988107968\n",
      "R2 score 93.75571899255426\n",
      "===================================\n",
      "\n",
      "\n",
      "Lasso\n",
      "Model Training Performance\n",
      "RMSE: 1004.1774865202909\n",
      "MAE: 674.7072899734009\n",
      "R2 score 93.75311689658488\n",
      "===================================\n",
      "\n",
      "\n",
      "Ridge\n",
      "Model Training Performance\n",
      "RMSE: 1003.9723371874084\n",
      "MAE: 673.5296527449865\n",
      "R2 score 93.75566906094106\n",
      "===================================\n",
      "\n",
      "\n",
      "Elasticnet\n",
      "Model Training Performance\n",
      "RMSE: 1526.4076959180634\n",
      "MAE: 1060.7705550659125\n",
      "R2 score 85.56610596968004\n",
      "===================================\n",
      "\n",
      "\n"
     ]
    }
   ],
   "source": [
    "## Train multiple models\n",
    "## Model Ecaluation\n",
    "models={\n",
    "    'LinearRegression':LinearRegression(),\n",
    "    'Lasso':Lasso(),\n",
    "    'Ridge':Ridge(),\n",
    "    'Elasticnet':ElasticNet()\n",
    "}\n",
    "trained_model_list=[]\n",
    "model_list=[]\n",
    "r2_list=[]\n",
    "\n",
    "for i in range(len(list(models))):\n",
    "    model=list(models.values())[i]\n",
    "    model.fit(xtrain,ytrain)\n",
    "\n",
    "    #Make Predictions\n",
    "    y_pred=model.predict(xtest)\n",
    "\n",
    "    mae, rmse, r2_square=evaluate_model(ytest,y_pred)\n",
    "\n",
    "    print(list(models.keys())[i])\n",
    "    model_list.append(list(models.keys())[i])\n",
    "\n",
    "    print('Model Training Performance')\n",
    "    print(\"RMSE:\",rmse)\n",
    "    print(\"MAE:\",mae)\n",
    "    print(\"R2 score\",r2_square*100)\n",
    "\n",
    "    r2_list.append(r2_square)\n",
    "    \n",
    "    print('='*35)\n",
    "    print('\\n')\n"
   ]
  }
 ],
 "metadata": {
  "kernelspec": {
   "display_name": "Python 3 (ipykernel)",
   "language": "python",
   "name": "python3"
  },
  "language_info": {
   "codemirror_mode": {
    "name": "ipython",
    "version": 3
   },
   "file_extension": ".py",
   "mimetype": "text/x-python",
   "name": "python",
   "nbconvert_exporter": "python",
   "pygments_lexer": "ipython3",
   "version": "3.10.9"
  }
 },
 "nbformat": 4,
 "nbformat_minor": 5
}
